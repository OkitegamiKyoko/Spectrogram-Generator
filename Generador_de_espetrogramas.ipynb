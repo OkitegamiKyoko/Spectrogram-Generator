{
  "nbformat": 4,
  "nbformat_minor": 0,
  "metadata": {
    "colab": {
      "private_outputs": true,
      "provenance": [],
      "include_colab_link": true
    },
    "kernelspec": {
      "name": "python3",
      "display_name": "Python 3"
    },
    "language_info": {
      "name": "python"
    }
  },
  "cells": [
    {
      "cell_type": "markdown",
      "metadata": {
        "id": "view-in-github",
        "colab_type": "text"
      },
      "source": [
        "<a href=\"https://colab.research.google.com/github/OkitegamiKyoko/Spectrogram-Generator/blob/main/Generador_de_espetrogramas.ipynb\" target=\"_parent\"><img src=\"https://colab.research.google.com/assets/colab-badge.svg\" alt=\"Open In Colab\"/></a>"
      ]
    },
    {
      "cell_type": "code",
      "execution_count": null,
      "metadata": {
        "id": "9RJWI_kDU7Q6"
      },
      "outputs": [],
      "source": [
        "!pip install tensorflow tensorflow-io matplotlib pydub"
      ]
    },
    {
      "cell_type": "code",
      "execution_count": null,
      "metadata": {
        "jupyter": {
          "source_hidden": true
        },
        "tags": [],
        "id": "wxkMQDQPLDR4"
      },
      "outputs": [],
      "source": [
        "import os\n",
        "from matplotlib import pyplot as plt\n",
        "import tensorflow as tf\n",
        "import tensorflow_io as tfio\n",
        "import numpy as np"
      ]
    },
    {
      "cell_type": "code",
      "source": [
        "from google.colab import drive\n",
        "drive.mount('/content/drive')"
      ],
      "metadata": {
        "id": "IVfi6bjIjLqJ"
      },
      "execution_count": null,
      "outputs": []
    },
    {
      "cell_type": "code",
      "source": [
        "os.chdir('/content/drive/My Drive/data')"
      ],
      "metadata": {
        "id": "3h2q0841jSxd"
      },
      "execution_count": null,
      "outputs": []
    },
    {
      "cell_type": "code",
      "execution_count": null,
      "metadata": {
        "jupyter": {
          "source_hidden": true
        },
        "tags": [],
        "id": "gnY8GEQELDR6"
      },
      "outputs": [],
      "source": [
        "AUDIO_FILE = os.path.join('data', 'prueba.wav')"
      ]
    },
    {
      "cell_type": "markdown",
      "source": [
        "# Stereo a Mono\n",
        "Esta función transforma el archivo wav de estereo a mono, por lo que unicamente puede recibir archivos de estereo."
      ],
      "metadata": {
        "id": "OJsy6CvSCov_"
      }
    },
    {
      "cell_type": "code",
      "execution_count": null,
      "metadata": {
        "jupyter": {
          "source_hidden": true
        },
        "tags": [],
        "id": "AOZSQtbhLDR7"
      },
      "outputs": [],
      "source": [
        "sample_rate2 = 0\n",
        "def load_wav_16k_mono(filename):\n",
        "    # Load encoded wav file - Only one\n",
        "    file_contents = tf.io.read_file(filename)\n",
        "    # Decode wav (tensors by channels)\n",
        "    wav, sample_rate = tf.audio.decode_wav(file_contents, desired_channels=1)\n",
        "    # Removes trailing axis\n",
        "    wav = tf.squeeze(wav, axis=-1)\n",
        "    sample_rate = tf.cast(sample_rate, dtype=tf.int64)\n",
        "    sample_rate2 = sample_rate\n",
        "    # Goes from 44100Hz to 16000hz - amplitude of the audio signal\n",
        "    print(int(sample_rate))\n",
        "    wav = tfio.audio.resample(wav, rate_in=sample_rate, rate_out=20000)\n",
        "    return wav"
      ]
    },
    {
      "cell_type": "code",
      "execution_count": null,
      "metadata": {
        "jupyter": {
          "source_hidden": true
        },
        "tags": [],
        "id": "sfNtCVu0LDR9"
      },
      "outputs": [],
      "source": [
        "wave = load_wav_16k_mono(AUDIO_FILE)"
      ]
    },
    {
      "cell_type": "markdown",
      "source": [
        "# Impresion de la forma de onda"
      ],
      "metadata": {
        "id": "WoVu4mqxDMU7"
      }
    },
    {
      "cell_type": "code",
      "source": [
        "plt.figure(figsize=(30,20))\n",
        "plt.plot(wave)\n",
        "plt.show()"
      ],
      "metadata": {
        "id": "VA73f1ukhvw7"
      },
      "execution_count": null,
      "outputs": []
    },
    {
      "cell_type": "markdown",
      "source": [
        "Para archivos de 3 seg"
      ],
      "metadata": {
        "id": "YRW9HSDRED5l"
      }
    },
    {
      "cell_type": "code",
      "execution_count": null,
      "metadata": {
        "jupyter": {
          "source_hidden": true
        },
        "tags": [],
        "id": "hpN8LEWdLDSD"
      },
      "outputs": [],
      "source": [
        "def preprocess(file_path):\n",
        "    wav = load_wav_16k_mono(file_path)\n",
        "    wav = wav[:480000]\n",
        "    zero_padding = tf.zeros([480000] - tf.shape(wav), dtype=tf.float32)\n",
        "    wav = tf.concat([zero_padding, wav],0)\n",
        "    spectrogram = tf.signal.stft(wav, frame_length=320, frame_step=32)\n",
        "    spectrogram = tf.abs(spectrogram)\n",
        "    spectrogram = tf.expand_dims(spectrogram, axis=2)\n",
        "    return spectrogram"
      ]
    },
    {
      "cell_type": "code",
      "source": [
        "spectrogram = preprocess(AUDIO_FILE)"
      ],
      "metadata": {
        "id": "QEDlrBGwjxX5"
      },
      "execution_count": null,
      "outputs": []
    },
    {
      "cell_type": "code",
      "source": [
        "#plt.imshow(tf.math.log(spectrogram + 1e-6).numpy(), cmap='viridis', origin='lower', aspect='auto')\n",
        "plt.imshow(tf.transpose(tf.math.log(spectrogram + 1e-6).numpy())[0], cmap='viridis', origin='lower', aspect='auto')\n",
        "plt.colorbar(format='%+2.0f dB')\n",
        "plt.show()"
      ],
      "metadata": {
        "id": "mOTrxXb9jx6K"
      },
      "execution_count": null,
      "outputs": []
    },
    {
      "cell_type": "markdown",
      "source": [
        "# Filtros\n",
        "Para fortuna nuestra, la mayoría de los cantos de las aves están en un rango de 2 000 a 7 000 Hz, con un óptimo entre 1 000 y 5 000 Hz (User, s. f.).\n",
        "# Pasa Banda\n",
        "Frecuencia de corte entre 1kHz y 7khz\n",
        "\n",
        "# Referencia\n",
        "User, S. (s. f.). Estructura y evolución de las vocalizaciones de las aves - Revista Ciencias. https://www.revistacienciasunam.com/en/149-revistas/revista-ciencias-109-110/1238-estructura-y-evoluci%C3%B3n-de-las-vocalizaciones-de-las-aves.html"
      ],
      "metadata": {
        "id": "thcc-dc8gnXO"
      }
    },
    {
      "cell_type": "code",
      "source": [
        "import scipy.ndimage\n",
        "import numpy as np\n",
        "import scipy.signal\n",
        "\n",
        "def filtro_pasa_banda(signal, low_cutoff, high_cutoff, sample_rate):\n",
        "    nyquist = 0.5 * sample_rate\n",
        "    low = low_cutoff / nyquist\n",
        "    high = high_cutoff / nyquist\n",
        "    b, a = scipy.signal.butter(10, [low, high], btype='band', analog=False)\n",
        "    filtered_signal = scipy.signal.filtfilt(b, a, signal)\n",
        "    return filtered_signal"
      ],
      "metadata": {
        "id": "ykktMXz1g3ip"
      },
      "execution_count": null,
      "outputs": []
    },
    {
      "cell_type": "markdown",
      "source": [
        "# Generar espectrograma\n",
        "Procesa el archivo wav para generar su resectivo espectrograma, se recomienda que los archivos sean de la misma duración para evitar problemas de tamaño y nitidez de la imagen resultante"
      ],
      "metadata": {
        "id": "zhR4OOxZDVJ2"
      }
    },
    {
      "cell_type": "code",
      "source": [
        "def preprocess(file_path):\n",
        "    cutoff_frequency_low=1000\n",
        "    cutoff_frequency_high=7000\n",
        "    # Cargar el archivo de audio de música y convertirlo a una forma de onda\n",
        "    wav = load_wav_16k_mono(file_path)\n",
        "    # Calcular el espectrograma utilizando la Transformada de Fourier de Tiempo Corto (STFT)\n",
        "    spectrogram = tf.signal.stft(wav, frame_length=320, frame_step=32)\n",
        "    # Calcular el valor absoluto del espectrograma para obtener magnitudes de frecuencia\n",
        "    spectrogram = tf.abs(spectrogram)\n",
        "    # Aplicar el filtro pasa altas a cada fila del espectrograma\n",
        "    # spectrogram = tf.constant([filtro_pasa_banda(row, cutoff_frequency_low, cutoff_frequency_high, 41000) for row in spectrogram.numpy()])\n",
        "    # spectrogram = tf.expand_dims(spectrogram, axis=2)\n",
        "\n",
        "    # Aplicar el filtro pasa banda a cada fila del espectrograma\n",
        "    # spectrogram = np.apply_along_axis(lambda row: filtro_pasa_banda(row, cutoff_frequency_low, cutoff_frequency_high, 41000), axis=1, arr=spectrogram.numpy())\n",
        "\n",
        "    # Calcular el espectrograma de Mel\n",
        "    '''\n",
        "    mel_spectrogram = tf.signal.linear_to_mel_weight_matrix(\n",
        "        num_mel_bins=128,  # Número de bandas de Mel\n",
        "        num_spectrogram_bins=spectrogram.shape[-1],\n",
        "        sample_rate=16000,  # Frecuencia de muestreo del audio\n",
        "        lower_edge_hertz=0,  # Frecuencia mínima de Mel\n",
        "        upper_edge_hertz=8000)  # Frecuencia máxima de Mel\n",
        "\n",
        "    mel_spectrogram = tf.matmul(tf.square(spectrogram), mel_spectrogram)\n",
        "\n",
        "    # Logaritmo para obtener la escala logarítmica de Mel\n",
        "    mel_spectrogram = tf.math.log(mel_spectrogram + 1e-6)\n",
        "    '''\n",
        "\n",
        "    # Expandir las dimensiones del espectrograma para agregar una dimensión adicional\n",
        "    spectrogram = tf.expand_dims(spectrogram, axis=2)\n",
        "\n",
        "    return spectrogram\n",
        "\n",
        "    # Expandir las dimensiones del espectrograma para agregar una dimensión adicional\n",
        "    # spectrogram = tf.expand_dims(spectrogram, axis=2)\n",
        "    # Devolver el espectrograma preprocesado\n",
        "    # return spectrogram"
      ],
      "metadata": {
        "id": "f21Y-wAJj1nK"
      },
      "execution_count": null,
      "outputs": []
    },
    {
      "cell_type": "code",
      "source": [
        "# Reemplaza 'tu_ruta_de_audio' con la ruta real de tu archivo de audio\n",
        "\n",
        "import numpy as np\n",
        "\n",
        "def gen_spect(Path,num):\n",
        "  spectrogram = preprocess(Path)\n",
        "  # Rotar los datos del espectrograma\n",
        "  # rotated_spectrogram = np.rot90(tf.math.log(spectrogram + 1e-6).numpy(), k=1)\n",
        "  # Configurar el tamaño de la figura sin márgenes\n",
        "  fig, ax = plt.subplots(figsize=(15, 10), tight_layout=True)\n",
        "  ax.imshow(tf.transpose(tf.math.log(spectrogram + 1e-6).numpy())[0], cmap='gray_r', origin='lower', aspect='auto')\n",
        "  # Ocultar etiquetas de eje\n",
        "  # ax.set_xticks([])\n",
        "  # ax.set_yticks([])\n",
        "  ax.axis('off')\n",
        "  plt.subplots_adjust(left=0, right=1, top=1, bottom=0)\n",
        "  # plt.xlabel('Frecuencia bin')\n",
        "  # plt.ylabel('Tiempo')\n",
        "  # plt.title('Espectrograma de Audio Completo')\n",
        "  # plt.colorbar(format='%+2.0f dB')\n",
        "  # Guarda la imagen del spectrograma\n",
        "  fig.savefig('/content/espectrograma/espectrograma'+str(num)+'.png', bbox_inches='tight', pad_inches=0)\n",
        "  plt.show()"
      ],
      "metadata": {
        "id": "SqPkhtVUR_Ap"
      },
      "execution_count": null,
      "outputs": []
    },
    {
      "cell_type": "markdown",
      "source": [
        "Busca todos los audios dentro de una carpeta"
      ],
      "metadata": {
        "id": "0-GApFzoRwia"
      }
    },
    {
      "cell_type": "code",
      "source": [
        "import glob\n",
        "\n",
        "# Define el patrón del nombre de archivo que estás buscando\n",
        "pattern = '/content/drive/My Drive/data/output_*.wav'\n",
        "\n",
        "# Obtiene una lista de nombres de archivos que coinciden con el patrón\n",
        "file_list = glob.glob(pattern)\n",
        "# Imprime la cantidad de archivos encontrados\n",
        "print(\"Número de archivos encontrados:\", len(file_list))\n",
        "# Imprime la lista de nombres de archivos encontrados\n",
        "print(\"Archivos encontrados:\")\n",
        "for file_name in file_list:\n",
        "    print(file_name)"
      ],
      "metadata": {
        "id": "Ak9BbLisQm51"
      },
      "execution_count": null,
      "outputs": []
    },
    {
      "cell_type": "markdown",
      "source": [
        "# Detección de silencio en el audio\n",
        "Si la suma del silencio del audio es superior a 2.5 seg, no se considera el audio para su uso"
      ],
      "metadata": {
        "id": "BY1Qqn603Ujw"
      }
    },
    {
      "cell_type": "code",
      "source": [
        "from pydub import AudioSegment\n",
        "from pydub.silence import detect_silence\n",
        "\n",
        "def detectar_silencio(ruta_audio, umbral_silencio=-40, duracion_minima_silencio=500):\n",
        "    # Cargar el archivo de audio\n",
        "    audio = AudioSegment.from_file(ruta_audio)\n",
        "\n",
        "    # Detectar los fragmentos de silencio\n",
        "    fragmentos_silencio = detect_silence(audio, silence_thresh=umbral_silencio, seek_step=duracion_minima_silencio)\n",
        "\n",
        "    if not fragmentos_silencio:\n",
        "        print(\"El audio no contiene silencio.\")\n",
        "    else:\n",
        "        print(f\"Se detectaron fragmentos de silencio en {ruta_audio}:\")\n",
        "        sum = 0;\n",
        "        for inicio, fin in fragmentos_silencio:\n",
        "            print(f\"    Inicio: {inicio}, Fin: {fin}\")\n",
        "            sum = sum+(fin-inicio)\n",
        "            print(f\"    Total time: {sum}\")\n",
        "        if  sum > 2500:\n",
        "          print(\"audio no util\")"
      ],
      "metadata": {
        "id": "TPecq2siz8kX"
      },
      "execution_count": null,
      "outputs": []
    },
    {
      "cell_type": "code",
      "source": [
        "i=0\n",
        "for file_name in file_list:\n",
        "    gen_spect(file_name,i)\n",
        "    detectar_silencio(file_name)\n",
        "    i=i+1"
      ],
      "metadata": {
        "id": "FOtAVxMfR2-r"
      },
      "execution_count": null,
      "outputs": []
    }
  ]
}